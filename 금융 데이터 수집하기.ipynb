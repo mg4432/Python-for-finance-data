{
 "cells": [
  {
   "cell_type": "markdown",
   "metadata": {},
   "source": [
    "## 파이썬 패키지를 이용하여 수집하기"
   ]
  },
  {
   "cell_type": "markdown",
   "metadata": {},
   "source": [
    "금융 데이터를 수집하기 위해 가장 많이 사용되는 패키지는 \n",
    "> pandas-datareader \n",
    "\n",
    "금융 데이터를 제공하는 여러 가지 사이트의 정보를 쉽게 수집할 수 있도록 도와준다. \n",
    "\n",
    "국내 주식 데이터를 수집할 수 있는 패키지도 존재함.\n",
    "> finance-datareader"
   ]
  },
  {
   "cell_type": "markdown",
   "metadata": {},
   "source": [
    "### pandas-datareader"
   ]
  },
  {
   "cell_type": "markdown",
   "metadata": {},
   "source": [
    "**주가 데이터**"
   ]
  },
  {
   "cell_type": "code",
   "execution_count": 1,
   "metadata": {
    "ExecuteTime": {
     "end_time": "2023-01-31T08:30:46.222428Z",
     "start_time": "2023-01-31T08:30:46.204838Z"
    }
   },
   "outputs": [],
   "source": [
    "TINGO_API_KEY = ''"
   ]
  },
  {
   "cell_type": "code",
   "execution_count": 3,
   "metadata": {
    "ExecuteTime": {
     "end_time": "2023-01-31T08:31:31.538093Z",
     "start_time": "2023-01-31T08:31:22.630600Z"
    }
   },
   "outputs": [
    {
     "name": "stderr",
     "output_type": "stream",
     "text": [
      "C:\\ProgramData\\Anaconda3\\lib\\site-packages\\pandas_datareader\\tiingo.py:234: FutureWarning: In a future version of pandas all arguments of concat except for the argument 'objs' will be keyword-only.\n",
      "  return pd.concat(dfs, self._concat_axis)\n"
     ]
    },
    {
     "data": {
      "text/html": [
       "<div>\n",
       "<style scoped>\n",
       "    .dataframe tbody tr th:only-of-type {\n",
       "        vertical-align: middle;\n",
       "    }\n",
       "\n",
       "    .dataframe tbody tr th {\n",
       "        vertical-align: top;\n",
       "    }\n",
       "\n",
       "    .dataframe thead th {\n",
       "        text-align: right;\n",
       "    }\n",
       "</style>\n",
       "<table border=\"1\" class=\"dataframe\">\n",
       "  <thead>\n",
       "    <tr style=\"text-align: right;\">\n",
       "      <th></th>\n",
       "      <th></th>\n",
       "      <th>close</th>\n",
       "      <th>high</th>\n",
       "      <th>low</th>\n",
       "      <th>open</th>\n",
       "      <th>volume</th>\n",
       "      <th>adjClose</th>\n",
       "      <th>adjHigh</th>\n",
       "      <th>adjLow</th>\n",
       "      <th>adjOpen</th>\n",
       "      <th>adjVolume</th>\n",
       "      <th>divCash</th>\n",
       "      <th>splitFactor</th>\n",
       "    </tr>\n",
       "    <tr>\n",
       "      <th>symbol</th>\n",
       "      <th>date</th>\n",
       "      <th></th>\n",
       "      <th></th>\n",
       "      <th></th>\n",
       "      <th></th>\n",
       "      <th></th>\n",
       "      <th></th>\n",
       "      <th></th>\n",
       "      <th></th>\n",
       "      <th></th>\n",
       "      <th></th>\n",
       "      <th></th>\n",
       "      <th></th>\n",
       "    </tr>\n",
       "  </thead>\n",
       "  <tbody>\n",
       "    <tr>\n",
       "      <th rowspan=\"5\" valign=\"top\">GOOG</th>\n",
       "      <th>2018-02-01 00:00:00+00:00</th>\n",
       "      <td>1167.70</td>\n",
       "      <td>1174.00</td>\n",
       "      <td>1157.520</td>\n",
       "      <td>1162.61</td>\n",
       "      <td>1974700</td>\n",
       "      <td>58.385</td>\n",
       "      <td>58.7000</td>\n",
       "      <td>57.87600</td>\n",
       "      <td>58.1305</td>\n",
       "      <td>39494000</td>\n",
       "      <td>0.0</td>\n",
       "      <td>1.0</td>\n",
       "    </tr>\n",
       "    <tr>\n",
       "      <th>2018-02-02 00:00:00+00:00</th>\n",
       "      <td>1111.90</td>\n",
       "      <td>1123.07</td>\n",
       "      <td>1107.278</td>\n",
       "      <td>1122.00</td>\n",
       "      <td>4758496</td>\n",
       "      <td>55.595</td>\n",
       "      <td>56.1535</td>\n",
       "      <td>55.36390</td>\n",
       "      <td>56.1000</td>\n",
       "      <td>95169920</td>\n",
       "      <td>0.0</td>\n",
       "      <td>1.0</td>\n",
       "    </tr>\n",
       "    <tr>\n",
       "      <th>2018-02-05 00:00:00+00:00</th>\n",
       "      <td>1055.80</td>\n",
       "      <td>1110.00</td>\n",
       "      <td>1052.030</td>\n",
       "      <td>1090.60</td>\n",
       "      <td>3336352</td>\n",
       "      <td>52.790</td>\n",
       "      <td>55.5000</td>\n",
       "      <td>52.60150</td>\n",
       "      <td>54.5300</td>\n",
       "      <td>66727040</td>\n",
       "      <td>0.0</td>\n",
       "      <td>1.0</td>\n",
       "    </tr>\n",
       "    <tr>\n",
       "      <th>2018-02-06 00:00:00+00:00</th>\n",
       "      <td>1080.60</td>\n",
       "      <td>1081.71</td>\n",
       "      <td>1023.137</td>\n",
       "      <td>1027.18</td>\n",
       "      <td>3360727</td>\n",
       "      <td>54.030</td>\n",
       "      <td>54.0855</td>\n",
       "      <td>51.15685</td>\n",
       "      <td>51.3590</td>\n",
       "      <td>67214540</td>\n",
       "      <td>0.0</td>\n",
       "      <td>1.0</td>\n",
       "    </tr>\n",
       "    <tr>\n",
       "      <th>2018-02-07 00:00:00+00:00</th>\n",
       "      <td>1048.58</td>\n",
       "      <td>1081.78</td>\n",
       "      <td>1048.260</td>\n",
       "      <td>1081.54</td>\n",
       "      <td>2331374</td>\n",
       "      <td>52.429</td>\n",
       "      <td>54.0890</td>\n",
       "      <td>52.41300</td>\n",
       "      <td>54.0770</td>\n",
       "      <td>46627480</td>\n",
       "      <td>0.0</td>\n",
       "      <td>1.0</td>\n",
       "    </tr>\n",
       "  </tbody>\n",
       "</table>\n",
       "</div>"
      ],
      "text/plain": [
       "                                    close     high       low     open  \\\n",
       "symbol date                                                             \n",
       "GOOG   2018-02-01 00:00:00+00:00  1167.70  1174.00  1157.520  1162.61   \n",
       "       2018-02-02 00:00:00+00:00  1111.90  1123.07  1107.278  1122.00   \n",
       "       2018-02-05 00:00:00+00:00  1055.80  1110.00  1052.030  1090.60   \n",
       "       2018-02-06 00:00:00+00:00  1080.60  1081.71  1023.137  1027.18   \n",
       "       2018-02-07 00:00:00+00:00  1048.58  1081.78  1048.260  1081.54   \n",
       "\n",
       "                                   volume  adjClose  adjHigh    adjLow  \\\n",
       "symbol date                                                              \n",
       "GOOG   2018-02-01 00:00:00+00:00  1974700    58.385  58.7000  57.87600   \n",
       "       2018-02-02 00:00:00+00:00  4758496    55.595  56.1535  55.36390   \n",
       "       2018-02-05 00:00:00+00:00  3336352    52.790  55.5000  52.60150   \n",
       "       2018-02-06 00:00:00+00:00  3360727    54.030  54.0855  51.15685   \n",
       "       2018-02-07 00:00:00+00:00  2331374    52.429  54.0890  52.41300   \n",
       "\n",
       "                                  adjOpen  adjVolume  divCash  splitFactor  \n",
       "symbol date                                                                 \n",
       "GOOG   2018-02-01 00:00:00+00:00  58.1305   39494000      0.0          1.0  \n",
       "       2018-02-02 00:00:00+00:00  56.1000   95169920      0.0          1.0  \n",
       "       2018-02-05 00:00:00+00:00  54.5300   66727040      0.0          1.0  \n",
       "       2018-02-06 00:00:00+00:00  51.3590   67214540      0.0          1.0  \n",
       "       2018-02-07 00:00:00+00:00  54.0770   46627480      0.0          1.0  "
      ]
     },
     "execution_count": 3,
     "metadata": {},
     "output_type": "execute_result"
    }
   ],
   "source": [
    "import pandas_datareader as pdr \n",
    "\n",
    "\n",
    "df = pdr.get_data_tiingo('GOOG', api_key = TINGO_API_KEY)\n",
    "df.head()"
   ]
  },
  {
   "cell_type": "code",
   "execution_count": 7,
   "metadata": {
    "ExecuteTime": {
     "end_time": "2023-01-31T08:33:01.949906Z",
     "start_time": "2023-01-31T08:32:56.403376Z"
    }
   },
   "outputs": [
    {
     "data": {
      "text/plain": [
       "<AxesSubplot:xlabel='date', ylabel='adjClose'>"
      ]
     },
     "execution_count": 7,
     "metadata": {},
     "output_type": "execute_result"
    },
    {
     "data": {
      "image/png": "[encoded data removed]",
      "text/plain": [
       "<Figure size 432x288 with 1 Axes>"
      ]
     },
     "metadata": {
      "needs_background": "light"
     },
     "output_type": "display_data"
    }
   ],
   "source": [
    "import seaborn as sns \n",
    "sns.lineplot(x = df.index.levels[1], # 날짜\n",
    "             y = 'adjClose', # 종가\n",
    "             data = df)"
   ]
  },
  {
   "cell_type": "markdown",
   "metadata": {},
   "source": [
    "**주가 지수 데이터**\n",
    "\n",
    "코스피, 나스닥과 같은 주가 지수 정보는 Stooq라는 곳에서 수집할 수 있다. \n",
    "\n",
    "KOSPI지수 코드 확인하고 지수 변화 그래프로 그리기"
   ]
  },
  {
   "cell_type": "code",
   "execution_count": 8,
   "metadata": {
    "ExecuteTime": {
     "end_time": "2023-01-31T08:36:07.665299Z",
     "start_time": "2023-01-31T08:36:04.756234Z"
    }
   },
   "outputs": [
    {
     "data": {
      "text/html": [
       "<div>\n",
       "<style scoped>\n",
       "    .dataframe tbody tr th:only-of-type {\n",
       "        vertical-align: middle;\n",
       "    }\n",
       "\n",
       "    .dataframe tbody tr th {\n",
       "        vertical-align: top;\n",
       "    }\n",
       "\n",
       "    .dataframe thead th {\n",
       "        text-align: right;\n",
       "    }\n",
       "</style>\n",
       "<table border=\"1\" class=\"dataframe\">\n",
       "  <thead>\n",
       "    <tr style=\"text-align: right;\">\n",
       "      <th></th>\n",
       "      <th>Open</th>\n",
       "      <th>High</th>\n",
       "      <th>Low</th>\n",
       "      <th>Close</th>\n",
       "      <th>Volume</th>\n",
       "    </tr>\n",
       "    <tr>\n",
       "      <th>Date</th>\n",
       "      <th></th>\n",
       "      <th></th>\n",
       "      <th></th>\n",
       "      <th></th>\n",
       "      <th></th>\n",
       "    </tr>\n",
       "  </thead>\n",
       "  <tbody>\n",
       "    <tr>\n",
       "      <th>2023-01-30</th>\n",
       "      <td>2484.64</td>\n",
       "      <td>2491.13</td>\n",
       "      <td>2446.59</td>\n",
       "      <td>2450.47</td>\n",
       "      <td>460299000</td>\n",
       "    </tr>\n",
       "    <tr>\n",
       "      <th>2023-01-27</th>\n",
       "      <td>2474.52</td>\n",
       "      <td>2497.40</td>\n",
       "      <td>2464.53</td>\n",
       "      <td>2484.02</td>\n",
       "      <td>509288000</td>\n",
       "    </tr>\n",
       "    <tr>\n",
       "      <th>2023-01-26</th>\n",
       "      <td>2436.18</td>\n",
       "      <td>2468.65</td>\n",
       "      <td>2426.40</td>\n",
       "      <td>2468.65</td>\n",
       "      <td>486832000</td>\n",
       "    </tr>\n",
       "    <tr>\n",
       "      <th>2023-01-25</th>\n",
       "      <td>2426.58</td>\n",
       "      <td>2432.71</td>\n",
       "      <td>2421.51</td>\n",
       "      <td>2428.57</td>\n",
       "      <td>550087000</td>\n",
       "    </tr>\n",
       "    <tr>\n",
       "      <th>2023-01-20</th>\n",
       "      <td>2380.00</td>\n",
       "      <td>2395.97</td>\n",
       "      <td>2372.57</td>\n",
       "      <td>2395.26</td>\n",
       "      <td>302506000</td>\n",
       "    </tr>\n",
       "  </tbody>\n",
       "</table>\n",
       "</div>"
      ],
      "text/plain": [
       "               Open     High      Low    Close     Volume\n",
       "Date                                                     \n",
       "2023-01-30  2484.64  2491.13  2446.59  2450.47  460299000\n",
       "2023-01-27  2474.52  2497.40  2464.53  2484.02  509288000\n",
       "2023-01-26  2436.18  2468.65  2426.40  2468.65  486832000\n",
       "2023-01-25  2426.58  2432.71  2421.51  2428.57  550087000\n",
       "2023-01-20  2380.00  2395.97  2372.57  2395.26  302506000"
      ]
     },
     "execution_count": 8,
     "metadata": {},
     "output_type": "execute_result"
    }
   ],
   "source": [
    "import pandas_datareader.data as web \n",
    "\n",
    "df = web.DataReader('^KOSPI', 'stooq')\n",
    "df.head()"
   ]
  },
  {
   "cell_type": "code",
   "execution_count": 9,
   "metadata": {
    "ExecuteTime": {
     "end_time": "2023-01-31T08:37:07.194551Z",
     "start_time": "2023-01-31T08:37:06.915850Z"
    }
   },
   "outputs": [
    {
     "data": {
      "text/plain": [
       "<AxesSubplot:xlabel='Date', ylabel='Close'>"
      ]
     },
     "execution_count": 9,
     "metadata": {},
     "output_type": "execute_result"
    },
    {
     "data": {
      "image/png": "[encoded data removed]",
      "text/plain": [
       "<Figure size 432x288 with 1 Axes>"
      ]
     },
     "metadata": {
      "needs_background": "light"
     },
     "output_type": "display_data"
    }
   ],
   "source": [
    "sns.lineplot(x = df.index, y = 'Close', data = df)"
   ]
  },
  {
   "cell_type": "markdown",
   "metadata": {},
   "source": [
    "**환율 데이터**\n",
    "\n",
    "환율 데이터는 Alpha Vantage라는 곳에서 무료로 API KEY를 발급받아 수집할 수 있다."
   ]
  },
  {
   "cell_type": "code",
   "execution_count": 10,
   "metadata": {
    "ExecuteTime": {
     "end_time": "2023-01-31T08:46:20.161261Z",
     "start_time": "2023-01-31T08:46:20.145303Z"
    }
   },
   "outputs": [],
   "source": [
    "ALPHAVANTAGE_API_KEY = ' '"
   ]
  },
  {
   "cell_type": "code",
   "execution_count": 12,
   "metadata": {
    "ExecuteTime": {
     "end_time": "2023-01-31T08:47:27.862721Z",
     "start_time": "2023-01-31T08:47:26.846444Z"
    }
   },
   "outputs": [
    {
     "data": {
      "text/html": [
       "<div>\n",
       "<style scoped>\n",
       "    .dataframe tbody tr th:only-of-type {\n",
       "        vertical-align: middle;\n",
       "    }\n",
       "\n",
       "    .dataframe tbody tr th {\n",
       "        vertical-align: top;\n",
       "    }\n",
       "\n",
       "    .dataframe thead th {\n",
       "        text-align: right;\n",
       "    }\n",
       "</style>\n",
       "<table border=\"1\" class=\"dataframe\">\n",
       "  <thead>\n",
       "    <tr style=\"text-align: right;\">\n",
       "      <th></th>\n",
       "      <th>USD/KRW</th>\n",
       "    </tr>\n",
       "  </thead>\n",
       "  <tbody>\n",
       "    <tr>\n",
       "      <th>From_Currency Code</th>\n",
       "      <td>USD</td>\n",
       "    </tr>\n",
       "    <tr>\n",
       "      <th>From_Currency Name</th>\n",
       "      <td>United States Dollar</td>\n",
       "    </tr>\n",
       "    <tr>\n",
       "      <th>To_Currency Code</th>\n",
       "      <td>KRW</td>\n",
       "    </tr>\n",
       "    <tr>\n",
       "      <th>To_Currency Name</th>\n",
       "      <td>South Korean Won</td>\n",
       "    </tr>\n",
       "    <tr>\n",
       "      <th>Exchange Rate</th>\n",
       "      <td>1231.70000000</td>\n",
       "    </tr>\n",
       "  </tbody>\n",
       "</table>\n",
       "</div>"
      ],
      "text/plain": [
       "                                 USD/KRW\n",
       "From_Currency Code                   USD\n",
       "From_Currency Name  United States Dollar\n",
       "To_Currency Code                     KRW\n",
       "To_Currency Name        South Korean Won\n",
       "Exchange Rate              1231.70000000"
      ]
     },
     "execution_count": 12,
     "metadata": {},
     "output_type": "execute_result"
    }
   ],
   "source": [
    "import pandas_datareader.data as web\n",
    "\n",
    "# 원달러 환율\n",
    "df_1 = web.DataReader('USD/KRW', 'av-forex', api_key = ALPHAVANTAGE_API_KEY)\n",
    "df_1.head()"
   ]
  },
  {
   "cell_type": "markdown",
   "metadata": {},
   "source": [
    "pandas-datareader 패키지는 실시간 환율 데이터만 수집할 수 있기 때문에 기간별 환율 데이터를 수집하고 싶으면 발급받은 API KEY를 통해서 직접 수집해야 한다.\n",
    "\n",
    "API로 데이터를 수집하기 위해 urllib 패키지를 이용한다. "
   ]
  },
  {
   "cell_type": "code",
   "execution_count": 16,
   "metadata": {
    "ExecuteTime": {
     "end_time": "2023-01-31T08:53:03.100589Z",
     "start_time": "2023-01-31T08:53:00.872484Z"
    }
   },
   "outputs": [
    {
     "data": {
      "text/html": [
       "<div>\n",
       "<style scoped>\n",
       "    .dataframe tbody tr th:only-of-type {\n",
       "        vertical-align: middle;\n",
       "    }\n",
       "\n",
       "    .dataframe tbody tr th {\n",
       "        vertical-align: top;\n",
       "    }\n",
       "\n",
       "    .dataframe thead th {\n",
       "        text-align: right;\n",
       "    }\n",
       "</style>\n",
       "<table border=\"1\" class=\"dataframe\">\n",
       "  <thead>\n",
       "    <tr style=\"text-align: right;\">\n",
       "      <th></th>\n",
       "      <th>1. open</th>\n",
       "      <th>2. high</th>\n",
       "      <th>3. low</th>\n",
       "      <th>4. close</th>\n",
       "    </tr>\n",
       "  </thead>\n",
       "  <tbody>\n",
       "    <tr>\n",
       "      <th>2023-01-31</th>\n",
       "      <td>1232.58000</td>\n",
       "      <td>1233.28000</td>\n",
       "      <td>1227.40000</td>\n",
       "      <td>1231.70000</td>\n",
       "    </tr>\n",
       "    <tr>\n",
       "      <th>2023-01-30</th>\n",
       "      <td>1229.60000</td>\n",
       "      <td>1231.79000</td>\n",
       "      <td>1226.01000</td>\n",
       "      <td>1231.44000</td>\n",
       "    </tr>\n",
       "    <tr>\n",
       "      <th>2023-01-27</th>\n",
       "      <td>1231.82000</td>\n",
       "      <td>1235.84000</td>\n",
       "      <td>1226.78000</td>\n",
       "      <td>1231.10000</td>\n",
       "    </tr>\n",
       "    <tr>\n",
       "      <th>2023-01-26</th>\n",
       "      <td>1232.66000</td>\n",
       "      <td>1235.08000</td>\n",
       "      <td>1229.06000</td>\n",
       "      <td>1231.83000</td>\n",
       "    </tr>\n",
       "    <tr>\n",
       "      <th>2023-01-25</th>\n",
       "      <td>1232.55000</td>\n",
       "      <td>1237.24000</td>\n",
       "      <td>1230.11000</td>\n",
       "      <td>1232.81000</td>\n",
       "    </tr>\n",
       "  </tbody>\n",
       "</table>\n",
       "</div>"
      ],
      "text/plain": [
       "               1. open     2. high      3. low    4. close\n",
       "2023-01-31  1232.58000  1233.28000  1227.40000  1231.70000\n",
       "2023-01-30  1229.60000  1231.79000  1226.01000  1231.44000\n",
       "2023-01-27  1231.82000  1235.84000  1226.78000  1231.10000\n",
       "2023-01-26  1232.66000  1235.08000  1229.06000  1231.83000\n",
       "2023-01-25  1232.55000  1237.24000  1230.11000  1232.81000"
      ]
     },
     "execution_count": 16,
     "metadata": {},
     "output_type": "execute_result"
    }
   ],
   "source": [
    "from urllib.request import urlopen \n",
    "import json \n",
    "import pandas as pd \n",
    "\n",
    "url = 'https://www.alphavantage.co/query?function=FX_DAILY&from_symbol=USD&to_symbol=KRW&outputsize=compact&apikey=' + ALPHAVANTAGE_API_KEY\n",
    "result = urlopen(url)\n",
    "result_read = result.read()\n",
    "\n",
    "df = pd.DataFrame(json.loads(result_read)['Time Series FX (Daily)']).T\n",
    "df.head()\n"
   ]
  },
  {
   "cell_type": "markdown",
   "metadata": {
    "ExecuteTime": {
     "end_time": "2023-01-31T08:53:31.813356Z",
     "start_time": "2023-01-31T08:53:31.798396Z"
    }
   },
   "source": [
    "요청한 데이터는 json 형식으로 회신되어, json 패키지를 활용하여 딕셔너리 자료형으로 바꿔준다. "
   ]
  },
  {
   "cell_type": "markdown",
   "metadata": {},
   "source": [
    "**원자재 가격 데이터**\n",
    "\n",
    "원자재 가격은 미국 연방준비은행에서 관리하는 FRED(Federal Reserve Economic Data)에서 수집할 수 있다. \n",
    "\n",
    "찾고 싶은 정보를 사이트(https://fred.stlouisfed.org/)에서 검색한다.\n"
   ]
  },
  {
   "attachments": {
    "image-2.png": {
     "image/png": "[encoded data removed]"
    }
   },
   "cell_type": "markdown",
   "metadata": {},
   "source": [
    "원유 가격을 검색한 예) \n",
    "\n",
    "![image-2.png](attachment:image-2.png)"
   ]
  },
  {
   "cell_type": "code",
   "execution_count": 19,
   "metadata": {
    "ExecuteTime": {
     "end_time": "2023-01-31T09:01:03.332730Z",
     "start_time": "2023-01-31T09:01:02.686431Z"
    }
   },
   "outputs": [
    {
     "data": {
      "text/html": [
       "<div>\n",
       "<style scoped>\n",
       "    .dataframe tbody tr th:only-of-type {\n",
       "        vertical-align: middle;\n",
       "    }\n",
       "\n",
       "    .dataframe tbody tr th {\n",
       "        vertical-align: top;\n",
       "    }\n",
       "\n",
       "    .dataframe thead th {\n",
       "        text-align: right;\n",
       "    }\n",
       "</style>\n",
       "<table border=\"1\" class=\"dataframe\">\n",
       "  <thead>\n",
       "    <tr style=\"text-align: right;\">\n",
       "      <th></th>\n",
       "      <th>DCOILWTICO</th>\n",
       "    </tr>\n",
       "    <tr>\n",
       "      <th>DATE</th>\n",
       "      <th></th>\n",
       "    </tr>\n",
       "  </thead>\n",
       "  <tbody>\n",
       "    <tr>\n",
       "      <th>2015-01-01</th>\n",
       "      <td>NaN</td>\n",
       "    </tr>\n",
       "    <tr>\n",
       "      <th>2015-01-02</th>\n",
       "      <td>52.72</td>\n",
       "    </tr>\n",
       "    <tr>\n",
       "      <th>2015-01-05</th>\n",
       "      <td>50.05</td>\n",
       "    </tr>\n",
       "    <tr>\n",
       "      <th>2015-01-06</th>\n",
       "      <td>47.98</td>\n",
       "    </tr>\n",
       "    <tr>\n",
       "      <th>2015-01-07</th>\n",
       "      <td>48.69</td>\n",
       "    </tr>\n",
       "  </tbody>\n",
       "</table>\n",
       "</div>"
      ],
      "text/plain": [
       "            DCOILWTICO\n",
       "DATE                  \n",
       "2015-01-01         NaN\n",
       "2015-01-02       52.72\n",
       "2015-01-05       50.05\n",
       "2015-01-06       47.98\n",
       "2015-01-07       48.69"
      ]
     },
     "execution_count": 19,
     "metadata": {},
     "output_type": "execute_result"
    }
   ],
   "source": [
    "import pandas_datareader.data as web \n",
    "import datetime \n",
    "\n",
    "start = datetime.datetime(2015, 1, 1)\n",
    "end = datetime.datetime(2019, 12, 31)\n",
    "\n",
    "oil = web.DataReader('DCOILWTICO', 'fred', start, end)\n",
    "oil.head()"
   ]
  },
  {
   "cell_type": "markdown",
   "metadata": {},
   "source": [
    "**그 외 경제 지표 데이터**\n",
    "\n",
    "|수집처|내용|\n",
    "|:------:|:---:|\n",
    "|Econdb|90개 이상의 공식적인 통계 기관으로 경제 데이터를 제공|\n",
    "|Fred|세인트루이스 연방준비은행에서 제공하는 미국 및 각국의 주요 경제 지표 수집 가능|\n",
    "|World Bank|세계 은행에서 제공하는 경제 지표 데이터|\n",
    "|OECD|OECD 국가 통계 자료|\n",
    "|Enigma|Enigma 사이트에서 제공하는 공개 데이터 수집 가능|\n"
   ]
  },
  {
   "cell_type": "code",
   "execution_count": 21,
   "metadata": {
    "ExecuteTime": {
     "end_time": "2023-01-31T09:07:50.807093Z",
     "start_time": "2023-01-31T09:07:45.171810Z"
    }
   },
   "outputs": [
    {
     "data": {
      "text/html": [
       "<div>\n",
       "<style scoped>\n",
       "    .dataframe tbody tr th:only-of-type {\n",
       "        vertical-align: middle;\n",
       "    }\n",
       "\n",
       "    .dataframe tbody tr th {\n",
       "        vertical-align: top;\n",
       "    }\n",
       "\n",
       "    .dataframe thead th {\n",
       "        text-align: right;\n",
       "    }\n",
       "</style>\n",
       "<table border=\"1\" class=\"dataframe\">\n",
       "  <thead>\n",
       "    <tr style=\"text-align: right;\">\n",
       "      <th></th>\n",
       "      <th>id</th>\n",
       "      <th>name</th>\n",
       "      <th>unit</th>\n",
       "      <th>source</th>\n",
       "      <th>sourceNote</th>\n",
       "      <th>sourceOrganization</th>\n",
       "      <th>topics</th>\n",
       "    </tr>\n",
       "  </thead>\n",
       "  <tbody>\n",
       "    <tr>\n",
       "      <th>716</th>\n",
       "      <td>6.0.GDPpc_constant</td>\n",
       "      <td>GDP per capita, PPP (constant 2011 internation...</td>\n",
       "      <td></td>\n",
       "      <td>LAC Equity Lab</td>\n",
       "      <td>GDP per capita based on purchasing power parit...</td>\n",
       "      <td>b'World Development Indicators (World Bank)'</td>\n",
       "      <td>Economy &amp; Growth</td>\n",
       "    </tr>\n",
       "    <tr>\n",
       "      <th>10654</th>\n",
       "      <td>NY.GDP.PCAP.KD</td>\n",
       "      <td>GDP per capita (constant 2015 US$)</td>\n",
       "      <td></td>\n",
       "      <td>World Development Indicators</td>\n",
       "      <td>GDP per capita is gross domestic product divid...</td>\n",
       "      <td>b'World Bank national accounts data, and OECD ...</td>\n",
       "      <td>Economy &amp; Growth</td>\n",
       "    </tr>\n",
       "    <tr>\n",
       "      <th>10656</th>\n",
       "      <td>NY.GDP.PCAP.KN</td>\n",
       "      <td>GDP per capita (constant LCU)</td>\n",
       "      <td></td>\n",
       "      <td>World Development Indicators</td>\n",
       "      <td>GDP per capita is gross domestic product divid...</td>\n",
       "      <td>b'World Bank national accounts data, and OECD ...</td>\n",
       "      <td>Economy &amp; Growth</td>\n",
       "    </tr>\n",
       "    <tr>\n",
       "      <th>10658</th>\n",
       "      <td>NY.GDP.PCAP.PP.KD</td>\n",
       "      <td>GDP per capita, PPP (constant 2017 internation...</td>\n",
       "      <td></td>\n",
       "      <td>World Development Indicators</td>\n",
       "      <td>GDP per capita based on purchasing power parit...</td>\n",
       "      <td>b'International Comparison Program, World Bank...</td>\n",
       "      <td>Economy &amp; Growth</td>\n",
       "    </tr>\n",
       "    <tr>\n",
       "      <th>10659</th>\n",
       "      <td>NY.GDP.PCAP.PP.KD.87</td>\n",
       "      <td>GDP per capita, PPP (constant 1987 internation...</td>\n",
       "      <td></td>\n",
       "      <td>WDI Database Archives</td>\n",
       "      <td></td>\n",
       "      <td>b''</td>\n",
       "      <td></td>\n",
       "    </tr>\n",
       "  </tbody>\n",
       "</table>\n",
       "</div>"
      ],
      "text/plain": [
       "                         id  \\\n",
       "716      6.0.GDPpc_constant   \n",
       "10654        NY.GDP.PCAP.KD   \n",
       "10656        NY.GDP.PCAP.KN   \n",
       "10658     NY.GDP.PCAP.PP.KD   \n",
       "10659  NY.GDP.PCAP.PP.KD.87   \n",
       "\n",
       "                                                    name unit  \\\n",
       "716    GDP per capita, PPP (constant 2011 internation...        \n",
       "10654                 GDP per capita (constant 2015 US$)        \n",
       "10656                      GDP per capita (constant LCU)        \n",
       "10658  GDP per capita, PPP (constant 2017 internation...        \n",
       "10659  GDP per capita, PPP (constant 1987 internation...        \n",
       "\n",
       "                             source  \\\n",
       "716                  LAC Equity Lab   \n",
       "10654  World Development Indicators   \n",
       "10656  World Development Indicators   \n",
       "10658  World Development Indicators   \n",
       "10659         WDI Database Archives   \n",
       "\n",
       "                                              sourceNote  \\\n",
       "716    GDP per capita based on purchasing power parit...   \n",
       "10654  GDP per capita is gross domestic product divid...   \n",
       "10656  GDP per capita is gross domestic product divid...   \n",
       "10658  GDP per capita based on purchasing power parit...   \n",
       "10659                                                      \n",
       "\n",
       "                                      sourceOrganization            topics  \n",
       "716         b'World Development Indicators (World Bank)'  Economy & Growth  \n",
       "10654  b'World Bank national accounts data, and OECD ...  Economy & Growth  \n",
       "10656  b'World Bank national accounts data, and OECD ...  Economy & Growth  \n",
       "10658  b'International Comparison Program, World Bank...  Economy & Growth  \n",
       "10659                                                b''                    "
      ]
     },
     "execution_count": 21,
     "metadata": {},
     "output_type": "execute_result"
    }
   ],
   "source": [
    "# World Back를 이용한 데이터 수집\n",
    "from pandas_datareader import wb\n",
    "wb.search('gdp.*capita.*const') # 마침표로 검색하려는 상세 내용 입력"
   ]
  },
  {
   "cell_type": "code",
   "execution_count": 32,
   "metadata": {
    "ExecuteTime": {
     "end_time": "2023-01-31T09:11:49.207510Z",
     "start_time": "2023-01-31T09:11:47.999573Z"
    }
   },
   "outputs": [
    {
     "data": {
      "text/plain": [
       "<AxesSubplot:xlabel='year', ylabel='NY.GDP.PCAP.PP.KD'>"
      ]
     },
     "execution_count": 32,
     "metadata": {},
     "output_type": "execute_result"
    },
    {
     "data": {
      "image/png": "[encoded data removed]",
      "text/plain": [
       "<Figure size 432x288 with 1 Axes>"
      ]
     },
     "metadata": {
      "needs_background": "light"
     },
     "output_type": "display_data"
    }
   ],
   "source": [
    "# 한국과 일본의 구매력 기준 1인당 국민 소득 \n",
    "code = 'NY.GDP.PCAP.PP.KD'\n",
    "matches = wb.search('gdp.*capita.*const')\n",
    "\n",
    "data = wb.download(indicator = code, country = ['JPN', 'KOR'],\n",
    "                   start = 2011, end = 2018)\n",
    "data = data.reset_index(drop = False)\n",
    "sns.lineplot(x = 'year', y = code, hue = 'country',\n",
    "             data = data.ssort_values(by = ['country', 'year']))"
   ]
  },
  {
   "cell_type": "code",
   "execution_count": null,
   "metadata": {},
   "outputs": [],
   "source": []
  }
 ],
 "metadata": {
  "hide_input": false,
  "kernelspec": {
   "display_name": "Python 3",
   "language": "python",
   "name": "python3"
  },
  "language_info": {
   "codemirror_mode": {
    "name": "ipython",
    "version": 3
   },
   "file_extension": ".py",
   "mimetype": "text/x-python",
   "name": "python",
   "nbconvert_exporter": "python",
   "pygments_lexer": "ipython3",
   "version": "3.8.5"
  },
  "toc": {
   "base_numbering": 1,
   "nav_menu": {},
   "number_sections": true,
   "sideBar": true,
   "skip_h1_title": false,
   "title_cell": "Table of Contents",
   "title_sidebar": "Contents",
   "toc_cell": false,
   "toc_position": {},
   "toc_section_display": true,
   "toc_window_display": false
  },
  "varInspector": {
   "cols": {
    "lenName": 16,
    "lenType": 16,
    "lenVar": 40
   },
   "kernels_config": {
    "python": {
     "delete_cmd_postfix": "",
     "delete_cmd_prefix": "del ",
     "library": "var_list.py",
     "varRefreshCmd": "print(var_dic_list())"
    },
    "r": {
     "delete_cmd_postfix": ") ",
     "delete_cmd_prefix": "rm(",
     "library": "var_list.r",
     "varRefreshCmd": "cat(var_dic_list()) "
    }
   },
   "types_to_exclude": [
    "module",
    "function",
    "builtin_function_or_method",
    "instance",
    "_Feature"
   ],
   "window_display": false
  }
 },
 "nbformat": 4,
 "nbformat_minor": 4
}
